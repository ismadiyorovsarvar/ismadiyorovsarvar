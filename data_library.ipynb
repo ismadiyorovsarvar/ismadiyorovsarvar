{
  "nbformat": 4,
  "nbformat_minor": 0,
  "metadata": {
    "colab": {
      "name": "simpleex.ipynb",
      "provenance": [],
      "authorship_tag": "ABX9TyPFtkSQqYfM0BPA0XQFtVZt",
      "include_colab_link": true
    },
    "kernelspec": {
      "name": "python3",
      "display_name": "Python 3"
    },
    "language_info": {
      "name": "python"
    }
  },
  "cells": [
    {
      "cell_type": "markdown",
      "metadata": {
        "id": "view-in-github",
        "colab_type": "text"
      },
      "source": [
        "<a href=\"https://colab.research.google.com/github/ismadiyorovsarvar/ismadiyorovsarvar/blob/main/data_library.ipynb\" target=\"_parent\"><img src=\"https://colab.research.google.com/assets/colab-badge.svg\" alt=\"Open In Colab\"/></a>"
      ]
    },
    {
      "cell_type": "code",
      "execution_count": 1,
      "metadata": {
        "id": "cTLBgM3_NDyw"
      },
      "outputs": [],
      "source": [
        "#kutubxonalarni chaqirib olish\n",
        "import numpy as np\n",
        "import torch\n",
        "import pandas as pd\n",
        "import tensorflow as tf\n",
        "import sklearn"
      ]
    },
    {
      "cell_type": "code",
      "source": [
        "# versiyalarni tekshirish\n",
        "print(np.__version__)\n",
        "print(torch.__version__)\n",
        "print(pd.__version__)\n",
        "print(tf.__version__)\n",
        "print(sklearn.__version__)"
      ],
      "metadata": {
        "id": "aebkjb2cO4Ud",
        "colab": {
          "base_uri": "https://localhost:8080/"
        },
        "outputId": "23f0ebfe-896b-4a09-a7ac-7efbc4fb812c"
      },
      "execution_count": 6,
      "outputs": [
        {
          "output_type": "stream",
          "name": "stdout",
          "text": [
            "1.21.5\n",
            "1.10.0+cu111\n",
            "1.3.5\n",
            "2.8.0\n",
            "1.0.2\n"
          ]
        }
      ]
    },
    {
      "cell_type": "code",
      "source": [
        ""
      ],
      "metadata": {
        "id": "CDSgIzUOUdDC"
      },
      "execution_count": null,
      "outputs": []
    }
  ]
}